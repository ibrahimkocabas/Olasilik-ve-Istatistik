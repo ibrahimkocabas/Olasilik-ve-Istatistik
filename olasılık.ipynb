{
 "cells": [
  {
   "cell_type": "markdown",
   "metadata": {},
   "source": [
    "# Olasılık"
   ]
  },
  {
   "cell_type": "markdown",
   "metadata": {},
   "source": [
    "* **Olasılık**,olaylarların olabilirliğinin sayısal ifadesidir.Bir olayın meydana gelmesi için uygun durum sayısının o konuda oluşacabilecek tüm durum sayısına oranıdır.\n",
    "* **Rassal değişken**,değerlerini bir deneyin sonuçlarından alan değişkene rassal değişken denir.\n",
    "* **Dağılım**,evrende bazı olaylar gerçekleşiyor ve bu olaylar yada durumların sayısal karşılıklarının ortaya çıkardığı yapıya denir.\n",
    "* **Olasılık dağılımı**,bir rassal olaya ait değerler ve bu değerlerin gerçekleşme olasılıklarının bir arada ifade edilmesine denir.\n",
    "* **Olasılık fonksiyonu**,bir değişkenin herhangi bir değeri alması olasılığı hesaplamaya yaran fonksiyondur."
   ]
  },
  {
   "cell_type": "markdown",
   "metadata": {},
   "source": [
    "Kesikli Olasılık Dağılımları\n",
    "* Bernoulli\n",
    "* Binom\n",
    "* Poisson"
   ]
  },
  {
   "cell_type": "markdown",
   "metadata": {},
   "source": [
    "Sürekli Olasılık Dağılımları\n",
    "* Normal Dağılım\n",
    "* Üniform Dağılım\n",
    "* Üstel Dağılım"
   ]
  },
  {
   "cell_type": "markdown",
   "metadata": {},
   "source": [
    "### Bernoulli Dağılımı"
   ]
  },
  {
   "cell_type": "markdown",
   "metadata": {},
   "source": [
    "Başarılı-başarısız,olumlu-olumsuz şeklindeki iki sonuçlu olaylar ile ilgilenildiğinde kullanılan kesikli olasılık dağılımıdır."
   ]
  },
  {
   "cell_type": "markdown",
   "metadata": {},
   "source": [
    "$ {\\displaystyle f(k;p) = p^{k}(1-p)^{1-k}\\quad {\\text{for }}k\\in \\{0,1\\}} $\n",
    "\n",
    "$ {\\displaystyle \\operatorname {E}  \\left(X\\right)=p}$\n",
    "\n",
    "$ \\operatorname {Var} [X]=pq=p(1-p)$"
   ]
  },
  {
   "cell_type": "code",
   "execution_count": 3,
   "metadata": {},
   "outputs": [],
   "source": [
    "from scipy.stats import bernoulli"
   ]
  },
  {
   "cell_type": "code",
   "execution_count": 4,
   "metadata": {},
   "outputs": [],
   "source": [
    "p = 0.6"
   ]
  },
  {
   "cell_type": "code",
   "execution_count": 6,
   "metadata": {},
   "outputs": [
    {
     "data": {
      "text/plain": [
       "0.6"
      ]
     },
     "execution_count": 6,
     "metadata": {},
     "output_type": "execute_result"
    }
   ],
   "source": [
    "yt = bernoulli(p)\n",
    "yt.pmf(k=1)"
   ]
  },
  {
   "cell_type": "markdown",
   "metadata": {},
   "source": [
    "### Büyük Sayılar Yasası"
   ]
  },
  {
   "cell_type": "markdown",
   "metadata": {},
   "source": [
    "**Bir rassal değişkenin uzun vadeli kararlılığını tanımlayan olasılık teoremidir.**"
   ]
  },
  {
   "cell_type": "code",
   "execution_count": 7,
   "metadata": {},
   "outputs": [
    {
     "name": "stdout",
     "output_type": "stream",
     "text": [
      "Atış Sayısı: 2 --- Yazı Olasılığı:50.00\n",
      "Atış Sayısı: 4 --- Yazı Olasılığı:0.00\n",
      "Atış Sayısı: 8 --- Yazı Olasılığı:62.50\n",
      "Atış Sayısı: 16 --- Yazı Olasılığı:43.75\n",
      "Atış Sayısı: 32 --- Yazı Olasılığı:46.88\n",
      "Atış Sayısı: 64 --- Yazı Olasılığı:56.25\n",
      "Atış Sayısı: 128 --- Yazı Olasılığı:50.78\n",
      "Atış Sayısı: 256 --- Yazı Olasılığı:52.73\n",
      "Atış Sayısı: 512 --- Yazı Olasılığı:52.93\n",
      "Atış Sayısı: 1024 --- Yazı Olasılığı:50.20\n",
      "Atış Sayısı: 2048 --- Yazı Olasılığı:48.58\n",
      "Atış Sayısı: 4096 --- Yazı Olasılığı:49.49\n",
      "Atış Sayısı: 8192 --- Yazı Olasılığı:49.58\n",
      "Atış Sayısı: 16384 --- Yazı Olasılığı:49.96\n",
      "Atış Sayısı: 32768 --- Yazı Olasılığı:50.00\n",
      "Atış Sayısı: 65536 --- Yazı Olasılığı:49.68\n",
      "Atış Sayısı: 131072 --- Yazı Olasılığı:49.97\n",
      "Atış Sayısı: 262144 --- Yazı Olasılığı:50.13\n",
      "Atış Sayısı: 524288 --- Yazı Olasılığı:50.01\n",
      "Atış Sayısı: 1048576 --- Yazı Olasılığı:50.09\n"
     ]
    }
   ],
   "source": [
    "import numpy as np \n",
    "rng = np.random.RandomState(123)\n",
    "for i in np.arange(1,21) :\n",
    "    deney_sayisi = 2**i\n",
    "    yazi_turalar = rng.randint(0,2, size = deney_sayisi)\n",
    "    yazi_olasiliklari = np.mean(yazi_turalar)\n",
    "    print(\"Atış Sayısı:\",deney_sayisi,\"---\",\"Yazı Olasılığı:%.2f\" % (yazi_olasiliklari * 100))"
   ]
  },
  {
   "cell_type": "markdown",
   "metadata": {},
   "source": [
    "### Binom Dağılımı "
   ]
  },
  {
   "cell_type": "markdown",
   "metadata": {},
   "source": [
    "**Binom dağılımı**,bağımsız n deneme sonucu k başarılı olma olasılığı ile ilgilenildiğinde kullanılan dağılımdır.Örneğin 4 defa bozuk para attığımız zaman 2 defa yazı gelme olasılığı bulmak gibi."
   ]
  },
  {
   "cell_type": "markdown",
   "metadata": {},
   "source": [
    "### İş Uygulaması : Reklam Harcama Optimizasyonu"
   ]
  },
  {
   "cell_type": "markdown",
   "metadata": {},
   "source": [
    "* **Problem**:Çeşitli mecralara reklam veriliyor,reklamların tıklanma ve geri dönüşüm oranları optimize edilmeye çalışılıyor.Buna yönelik olarak belirli bir mecrada çeşitli senaryolara göre reklama tıklama olasılıkları hesaplanmak isteniliyor.\n",
    "* **Detaylar**:\n",
    "* Bir mecrada reklam verilecek\n",
    "* Dağılım ve reklama tıklanma olasılığı biliniyor.(0.01)\n",
    "* **Soru** :Reklamı 100 kişi gördüğünde 1,5,10 tıklanması olasılığı nedir ?"
   ]
  },
  {
   "cell_type": "code",
   "execution_count": 1,
   "metadata": {},
   "outputs": [],
   "source": [
    "from scipy.stats import binom"
   ]
  },
  {
   "cell_type": "code",
   "execution_count": 2,
   "metadata": {},
   "outputs": [
    {
     "name": "stdout",
     "output_type": "stream",
     "text": [
      "0.36972963764971983\n",
      "0.0028977871237616114\n",
      "7.006035693977161e-08\n"
     ]
    }
   ],
   "source": [
    "p = 0.01\n",
    "n = 100\n",
    "rv = binom(n, p)\n",
    "print ( rv.pmf(1))\n",
    "print ( rv.pmf(5))\n",
    "print ( rv.pmf(10))"
   ]
  },
  {
   "cell_type": "markdown",
   "metadata": {},
   "source": [
    "### Poisson Dağılımı"
   ]
  },
  {
   "cell_type": "markdown",
   "metadata": {},
   "source": [
    "**Poisson Dağılımı**,belirli bir zaman aralığında belirli bir alanda nadiren rastlanan olayların olasılıklarını hesaplamak için kullanılır.Bir olayın nadir olay kabul edilebilmesi için rassal deneme sayıs n > 50 olması gerekmektedir ve n*p < 5 (değerinin yani lambdanında 5 ten küçük olması gerekir.)"
   ]
  },
  {
   "cell_type": "markdown",
   "metadata": {},
   "source": [
    "#### İş Uygulaması : İlan Girişi Hata Olasılıklarının Hesaplanması"
   ]
  },
  {
   "cell_type": "markdown",
   "metadata": {},
   "source": [
    "* **Problem:**Hatalı ilan girişi olasılıkları hesaplanmak isteniyor.\n",
    "* **Detaylar**:\n",
    "* Bir yıl süresince ölçümler yapılıyor.\n",
    "* Dağılım biliniyor.Possion ve Lambda 0.1 (ortalama hata sayısı)\n",
    "* **Soru:**Hiç hata olmaması, 3 hata olması ve 5 hata olması olasılıkları nedir ?"
   ]
  },
  {
   "cell_type": "code",
   "execution_count": 3,
   "metadata": {},
   "outputs": [],
   "source": [
    "from scipy.stats import poisson"
   ]
  },
  {
   "cell_type": "code",
   "execution_count": 4,
   "metadata": {},
   "outputs": [],
   "source": [
    "lambda_ = 0.1"
   ]
  },
  {
   "cell_type": "code",
   "execution_count": 5,
   "metadata": {},
   "outputs": [
    {
     "name": "stdout",
     "output_type": "stream",
     "text": [
      "0.9048374180359595\n"
     ]
    }
   ],
   "source": [
    "rv = poisson(mu = lambda_)\n",
    "print(rv.pmf(k = 0))"
   ]
  },
  {
   "cell_type": "code",
   "execution_count": 6,
   "metadata": {},
   "outputs": [
    {
     "name": "stdout",
     "output_type": "stream",
     "text": [
      "0.00015080623633932676\n"
     ]
    }
   ],
   "source": [
    "print(rv.pmf(k = 3))"
   ]
  },
  {
   "cell_type": "code",
   "execution_count": 7,
   "metadata": {},
   "outputs": [
    {
     "name": "stdout",
     "output_type": "stream",
     "text": [
      "7.54031181696634e-08\n"
     ]
    }
   ],
   "source": [
    "print(rv.pmf(k = 5))"
   ]
  },
  {
   "cell_type": "markdown",
   "metadata": {},
   "source": [
    "### Normal Dağılım"
   ]
  },
  {
   "cell_type": "markdown",
   "metadata": {},
   "source": [
    "**Normal dağılım**,normal dağıldığı bilinen sürekli rassal değişkenler için olasılık hesaplaması için kullanılır."
   ]
  },
  {
   "cell_type": "markdown",
   "metadata": {},
   "source": [
    "#### İş Uygulaması : Ürün Satış Olasılıkları Hesaplanması"
   ]
  },
  {
   "cell_type": "markdown",
   "metadata": {},
   "source": [
    "* **Problem**:Bir yatırım/toplantı öncesinde gelecek ay ile ilgili satışların belirli değerlerde gerçekleşmesi olasılıkları belirlenmek isteniyor.\n",
    "* **Detaylar**:\n",
    "* Dağılımın normal olduğu biliniyor.\n",
    "* Aylık ortalama satış sayısı 80K,standart sapması 5K\n",
    "* **Soru**:\n",
    "* 90K'dan fazla satış yapma olasılığı nedir ?"
   ]
  },
  {
   "cell_type": "code",
   "execution_count": 1,
   "metadata": {},
   "outputs": [],
   "source": [
    "from scipy.stats import norm"
   ]
  },
  {
   "cell_type": "code",
   "execution_count": 2,
   "metadata": {},
   "outputs": [
    {
     "data": {
      "text/plain": [
       "0.02275013194817921"
      ]
     },
     "execution_count": 2,
     "metadata": {},
     "output_type": "execute_result"
    }
   ],
   "source": [
    "1-norm.cdf(90, 80, 5)"
   ]
  },
  {
   "cell_type": "markdown",
   "metadata": {},
   "source": [
    "**Normal eğri yapısı altında kalan kısım 1'eşittir.Bize ise belli bir integral kısmı lazım.Kümülatif yoğunluk fonksiyonu kullanılarak 90'dan fazla olasılığı ifadesini hesaplamak için 1'den çıkarma işlemi yapıyoruz.Formül içindeki değerler sırasıyla bizden istenen olasılık,ortalama değer ve standart sapma değerleridir.** "
   ]
  },
  {
   "cell_type": "code",
   "execution_count": 6,
   "metadata": {},
   "outputs": [],
   "source": [
    "#70'den fazla olması"
   ]
  },
  {
   "cell_type": "code",
   "execution_count": 3,
   "metadata": {},
   "outputs": [
    {
     "data": {
      "text/plain": [
       "0.9772498680518208"
      ]
     },
     "execution_count": 3,
     "metadata": {},
     "output_type": "execute_result"
    }
   ],
   "source": [
    "1-norm.cdf(70, 80, 5)"
   ]
  },
  {
   "cell_type": "code",
   "execution_count": 7,
   "metadata": {},
   "outputs": [],
   "source": [
    "#73'ten az olması"
   ]
  },
  {
   "cell_type": "code",
   "execution_count": 5,
   "metadata": {},
   "outputs": [
    {
     "data": {
      "text/plain": [
       "0.08075665923377107"
      ]
     },
     "execution_count": 5,
     "metadata": {},
     "output_type": "execute_result"
    }
   ],
   "source": [
    "norm.cdf(73, 80, 5)"
   ]
  },
  {
   "cell_type": "code",
   "execution_count": 8,
   "metadata": {},
   "outputs": [],
   "source": [
    "#85 ile 90 arasında olması"
   ]
  },
  {
   "cell_type": "code",
   "execution_count": 9,
   "metadata": {},
   "outputs": [
    {
     "data": {
      "text/plain": [
       "0.13590512198327787"
      ]
     },
     "execution_count": 9,
     "metadata": {},
     "output_type": "execute_result"
    }
   ],
   "source": [
    "norm.cdf(90, 80, 5) - norm.cdf(85, 80, 5)"
   ]
  },
  {
   "cell_type": "code",
   "execution_count": null,
   "metadata": {},
   "outputs": [],
   "source": []
  }
 ],
 "metadata": {
  "kernelspec": {
   "display_name": "Python 3",
   "language": "python",
   "name": "python3"
  },
  "language_info": {
   "codemirror_mode": {
    "name": "ipython",
    "version": 3
   },
   "file_extension": ".py",
   "mimetype": "text/x-python",
   "name": "python",
   "nbconvert_exporter": "python",
   "pygments_lexer": "ipython3",
   "version": "3.7.4"
  }
 },
 "nbformat": 4,
 "nbformat_minor": 4
}
